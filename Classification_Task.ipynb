{
 "cells": [
  {
   "cell_type": "code",
   "execution_count": 159,
   "id": "11597b37-3f32-4230-ae98-7418ba22fddb",
   "metadata": {},
   "outputs": [],
   "source": [
    "import pandas as pd\n",
    "import numpy as np\n",
    "\n",
    "from sklearn.metrics import f1_score"
   ]
  },
  {
   "cell_type": "code",
   "execution_count": 160,
   "id": "3f4e6821-2397-4698-9a4b-f5c94d197230",
   "metadata": {},
   "outputs": [
    {
     "name": "stdout",
     "output_type": "stream",
     "text": [
      "<class 'pandas.core.frame.DataFrame'>\n",
      "RangeIndex: 22228 entries, 0 to 22227\n",
      "Data columns (total 35 columns):\n",
      " #   Column                            Non-Null Count  Dtype  \n",
      "---  ------                            --------------  -----  \n",
      " 0   policy_tenure                     22228 non-null  float64\n",
      " 1   age_of_car                        22228 non-null  float64\n",
      " 2   age_of_policyholder               22228 non-null  float64\n",
      " 3   area_cluster                      22228 non-null  int64  \n",
      " 4   population_density                22228 non-null  float64\n",
      " 5   make                              22228 non-null  int64  \n",
      " 6   segment                           22228 non-null  int64  \n",
      " 7   model                             22228 non-null  int64  \n",
      " 8   fuel_type                         22228 non-null  int64  \n",
      " 9   airbags                           22228 non-null  float64\n",
      " 10  is_esc                            22228 non-null  int64  \n",
      " 11  is_adjustable_steering            22228 non-null  int64  \n",
      " 12  is_tpms                           22228 non-null  int64  \n",
      " 13  is_parking_sensors                22228 non-null  int64  \n",
      " 14  is_parking_camera                 22228 non-null  int64  \n",
      " 15  rear_brakes_type                  22228 non-null  int64  \n",
      " 16  displacement                      22228 non-null  int64  \n",
      " 17  cylinder                          22228 non-null  float64\n",
      " 18  transmission_type                 22228 non-null  int64  \n",
      " 19  gear_box                          22228 non-null  float64\n",
      " 20  steering_type                     22228 non-null  int64  \n",
      " 21  is_front_fog_lights               22228 non-null  int64  \n",
      " 22  is_rear_window_wiper              22228 non-null  int64  \n",
      " 23  is_rear_window_washer             22228 non-null  int64  \n",
      " 24  is_rear_window_defogger           22228 non-null  int64  \n",
      " 25  is_brake_assist                   22228 non-null  int64  \n",
      " 26  is_power_door_locks               22228 non-null  int64  \n",
      " 27  is_central_locking                22228 non-null  int64  \n",
      " 28  is_power_steering                 22228 non-null  int64  \n",
      " 29  is_driver_seat_height_adjustable  22228 non-null  int64  \n",
      " 30  is_day_night_rear_view_mirror     22228 non-null  int64  \n",
      " 31  is_ecw                            22228 non-null  int64  \n",
      " 32  is_speed_alert                    22228 non-null  int64  \n",
      " 33  ncap_rating                       22228 non-null  float64\n",
      " 34  is_claim                          22228 non-null  float64\n",
      "dtypes: float64(9), int64(26)\n",
      "memory usage: 5.9 MB\n"
     ]
    }
   ],
   "source": [
    "train = pd.read_csv(\"tidy_train.csv\")\n",
    "train = train.drop(columns=('Unnamed: 0'))\n",
    "train.info()"
   ]
  },
  {
   "cell_type": "code",
   "execution_count": 161,
   "id": "2b7e7260-4242-4f63-b920-ebd153809d51",
   "metadata": {},
   "outputs": [
    {
     "data": {
      "text/html": [
       "<div>\n",
       "<style scoped>\n",
       "    .dataframe tbody tr th:only-of-type {\n",
       "        vertical-align: middle;\n",
       "    }\n",
       "\n",
       "    .dataframe tbody tr th {\n",
       "        vertical-align: top;\n",
       "    }\n",
       "\n",
       "    .dataframe thead th {\n",
       "        text-align: right;\n",
       "    }\n",
       "</style>\n",
       "<table border=\"1\" class=\"dataframe\">\n",
       "  <thead>\n",
       "    <tr style=\"text-align: right;\">\n",
       "      <th></th>\n",
       "      <th>policy_tenure</th>\n",
       "      <th>age_of_car</th>\n",
       "      <th>age_of_policyholder</th>\n",
       "      <th>area_cluster</th>\n",
       "      <th>population_density</th>\n",
       "      <th>make</th>\n",
       "      <th>segment</th>\n",
       "      <th>model</th>\n",
       "      <th>fuel_type</th>\n",
       "      <th>airbags</th>\n",
       "      <th>...</th>\n",
       "      <th>is_brake_assist</th>\n",
       "      <th>is_power_door_locks</th>\n",
       "      <th>is_central_locking</th>\n",
       "      <th>is_power_steering</th>\n",
       "      <th>is_driver_seat_height_adjustable</th>\n",
       "      <th>is_day_night_rear_view_mirror</th>\n",
       "      <th>is_ecw</th>\n",
       "      <th>is_speed_alert</th>\n",
       "      <th>ncap_rating</th>\n",
       "      <th>is_claim</th>\n",
       "    </tr>\n",
       "  </thead>\n",
       "  <tbody>\n",
       "    <tr>\n",
       "      <th>count</th>\n",
       "      <td>22228.000000</td>\n",
       "      <td>22228.000000</td>\n",
       "      <td>22228.000000</td>\n",
       "      <td>22228.000000</td>\n",
       "      <td>22228.000000</td>\n",
       "      <td>22228.000000</td>\n",
       "      <td>22228.000000</td>\n",
       "      <td>22228.000000</td>\n",
       "      <td>22228.000000</td>\n",
       "      <td>22228.000000</td>\n",
       "      <td>...</td>\n",
       "      <td>22228.000000</td>\n",
       "      <td>22228.000000</td>\n",
       "      <td>22228.000000</td>\n",
       "      <td>22228.000000</td>\n",
       "      <td>22228.000000</td>\n",
       "      <td>22228.000000</td>\n",
       "      <td>22228.000000</td>\n",
       "      <td>22228.000000</td>\n",
       "      <td>22228.000000</td>\n",
       "      <td>22228.000000</td>\n",
       "    </tr>\n",
       "    <tr>\n",
       "      <th>mean</th>\n",
       "      <td>0.918931</td>\n",
       "      <td>0.000720</td>\n",
       "      <td>0.351809</td>\n",
       "      <td>7.682877</td>\n",
       "      <td>0.419201</td>\n",
       "      <td>1.760122</td>\n",
       "      <td>2.926669</td>\n",
       "      <td>4.432518</td>\n",
       "      <td>1.949703</td>\n",
       "      <td>3.132311</td>\n",
       "      <td>...</td>\n",
       "      <td>0.546293</td>\n",
       "      <td>0.721387</td>\n",
       "      <td>0.721387</td>\n",
       "      <td>0.979350</td>\n",
       "      <td>0.582014</td>\n",
       "      <td>0.379386</td>\n",
       "      <td>0.721387</td>\n",
       "      <td>0.993297</td>\n",
       "      <td>1.750900</td>\n",
       "      <td>0.064198</td>\n",
       "    </tr>\n",
       "    <tr>\n",
       "      <th>std</th>\n",
       "      <td>0.862633</td>\n",
       "      <td>0.029988</td>\n",
       "      <td>0.527929</td>\n",
       "      <td>4.505899</td>\n",
       "      <td>0.611739</td>\n",
       "      <td>1.135428</td>\n",
       "      <td>1.567091</td>\n",
       "      <td>2.601827</td>\n",
       "      <td>0.804947</td>\n",
       "      <td>1.830441</td>\n",
       "      <td>...</td>\n",
       "      <td>0.497864</td>\n",
       "      <td>0.448326</td>\n",
       "      <td>0.448326</td>\n",
       "      <td>0.142212</td>\n",
       "      <td>0.493239</td>\n",
       "      <td>0.485245</td>\n",
       "      <td>0.448326</td>\n",
       "      <td>0.081600</td>\n",
       "      <td>1.394023</td>\n",
       "      <td>0.245111</td>\n",
       "    </tr>\n",
       "    <tr>\n",
       "      <th>min</th>\n",
       "      <td>0.000000</td>\n",
       "      <td>0.000000</td>\n",
       "      <td>0.000000</td>\n",
       "      <td>1.000000</td>\n",
       "      <td>0.000000</td>\n",
       "      <td>1.000000</td>\n",
       "      <td>1.000000</td>\n",
       "      <td>1.000000</td>\n",
       "      <td>1.000000</td>\n",
       "      <td>1.000000</td>\n",
       "      <td>...</td>\n",
       "      <td>0.000000</td>\n",
       "      <td>0.000000</td>\n",
       "      <td>0.000000</td>\n",
       "      <td>0.000000</td>\n",
       "      <td>0.000000</td>\n",
       "      <td>0.000000</td>\n",
       "      <td>0.000000</td>\n",
       "      <td>0.000000</td>\n",
       "      <td>0.000000</td>\n",
       "      <td>0.000000</td>\n",
       "    </tr>\n",
       "    <tr>\n",
       "      <th>25%</th>\n",
       "      <td>0.000000</td>\n",
       "      <td>0.000000</td>\n",
       "      <td>0.000000</td>\n",
       "      <td>3.000000</td>\n",
       "      <td>0.000000</td>\n",
       "      <td>1.000000</td>\n",
       "      <td>1.000000</td>\n",
       "      <td>1.000000</td>\n",
       "      <td>1.000000</td>\n",
       "      <td>2.000000</td>\n",
       "      <td>...</td>\n",
       "      <td>0.000000</td>\n",
       "      <td>0.000000</td>\n",
       "      <td>0.000000</td>\n",
       "      <td>1.000000</td>\n",
       "      <td>0.000000</td>\n",
       "      <td>0.000000</td>\n",
       "      <td>0.000000</td>\n",
       "      <td>1.000000</td>\n",
       "      <td>0.000000</td>\n",
       "      <td>0.000000</td>\n",
       "    </tr>\n",
       "    <tr>\n",
       "      <th>50%</th>\n",
       "      <td>1.000000</td>\n",
       "      <td>0.000000</td>\n",
       "      <td>0.000000</td>\n",
       "      <td>8.000000</td>\n",
       "      <td>0.000000</td>\n",
       "      <td>1.000000</td>\n",
       "      <td>3.000000</td>\n",
       "      <td>4.000000</td>\n",
       "      <td>2.000000</td>\n",
       "      <td>2.000000</td>\n",
       "      <td>...</td>\n",
       "      <td>1.000000</td>\n",
       "      <td>1.000000</td>\n",
       "      <td>1.000000</td>\n",
       "      <td>1.000000</td>\n",
       "      <td>1.000000</td>\n",
       "      <td>0.000000</td>\n",
       "      <td>1.000000</td>\n",
       "      <td>1.000000</td>\n",
       "      <td>2.000000</td>\n",
       "      <td>0.000000</td>\n",
       "    </tr>\n",
       "    <tr>\n",
       "      <th>75%</th>\n",
       "      <td>2.000000</td>\n",
       "      <td>0.000000</td>\n",
       "      <td>1.000000</td>\n",
       "      <td>10.000000</td>\n",
       "      <td>1.000000</td>\n",
       "      <td>3.000000</td>\n",
       "      <td>5.000000</td>\n",
       "      <td>6.000000</td>\n",
       "      <td>3.000000</td>\n",
       "      <td>6.000000</td>\n",
       "      <td>...</td>\n",
       "      <td>1.000000</td>\n",
       "      <td>1.000000</td>\n",
       "      <td>1.000000</td>\n",
       "      <td>1.000000</td>\n",
       "      <td>1.000000</td>\n",
       "      <td>1.000000</td>\n",
       "      <td>1.000000</td>\n",
       "      <td>1.000000</td>\n",
       "      <td>3.000000</td>\n",
       "      <td>0.000000</td>\n",
       "    </tr>\n",
       "    <tr>\n",
       "      <th>max</th>\n",
       "      <td>2.000000</td>\n",
       "      <td>2.000000</td>\n",
       "      <td>2.000000</td>\n",
       "      <td>22.000000</td>\n",
       "      <td>2.000000</td>\n",
       "      <td>5.000000</td>\n",
       "      <td>6.000000</td>\n",
       "      <td>11.000000</td>\n",
       "      <td>3.000000</td>\n",
       "      <td>6.000000</td>\n",
       "      <td>...</td>\n",
       "      <td>1.000000</td>\n",
       "      <td>1.000000</td>\n",
       "      <td>1.000000</td>\n",
       "      <td>1.000000</td>\n",
       "      <td>1.000000</td>\n",
       "      <td>1.000000</td>\n",
       "      <td>1.000000</td>\n",
       "      <td>1.000000</td>\n",
       "      <td>5.000000</td>\n",
       "      <td>1.000000</td>\n",
       "    </tr>\n",
       "  </tbody>\n",
       "</table>\n",
       "<p>8 rows × 35 columns</p>\n",
       "</div>"
      ],
      "text/plain": [
       "       policy_tenure    age_of_car  age_of_policyholder  area_cluster  \\\n",
       "count   22228.000000  22228.000000         22228.000000  22228.000000   \n",
       "mean        0.918931      0.000720             0.351809      7.682877   \n",
       "std         0.862633      0.029988             0.527929      4.505899   \n",
       "min         0.000000      0.000000             0.000000      1.000000   \n",
       "25%         0.000000      0.000000             0.000000      3.000000   \n",
       "50%         1.000000      0.000000             0.000000      8.000000   \n",
       "75%         2.000000      0.000000             1.000000     10.000000   \n",
       "max         2.000000      2.000000             2.000000     22.000000   \n",
       "\n",
       "       population_density          make       segment         model  \\\n",
       "count        22228.000000  22228.000000  22228.000000  22228.000000   \n",
       "mean             0.419201      1.760122      2.926669      4.432518   \n",
       "std              0.611739      1.135428      1.567091      2.601827   \n",
       "min              0.000000      1.000000      1.000000      1.000000   \n",
       "25%              0.000000      1.000000      1.000000      1.000000   \n",
       "50%              0.000000      1.000000      3.000000      4.000000   \n",
       "75%              1.000000      3.000000      5.000000      6.000000   \n",
       "max              2.000000      5.000000      6.000000     11.000000   \n",
       "\n",
       "          fuel_type       airbags  ...  is_brake_assist  is_power_door_locks  \\\n",
       "count  22228.000000  22228.000000  ...     22228.000000         22228.000000   \n",
       "mean       1.949703      3.132311  ...         0.546293             0.721387   \n",
       "std        0.804947      1.830441  ...         0.497864             0.448326   \n",
       "min        1.000000      1.000000  ...         0.000000             0.000000   \n",
       "25%        1.000000      2.000000  ...         0.000000             0.000000   \n",
       "50%        2.000000      2.000000  ...         1.000000             1.000000   \n",
       "75%        3.000000      6.000000  ...         1.000000             1.000000   \n",
       "max        3.000000      6.000000  ...         1.000000             1.000000   \n",
       "\n",
       "       is_central_locking  is_power_steering  \\\n",
       "count        22228.000000       22228.000000   \n",
       "mean             0.721387           0.979350   \n",
       "std              0.448326           0.142212   \n",
       "min              0.000000           0.000000   \n",
       "25%              0.000000           1.000000   \n",
       "50%              1.000000           1.000000   \n",
       "75%              1.000000           1.000000   \n",
       "max              1.000000           1.000000   \n",
       "\n",
       "       is_driver_seat_height_adjustable  is_day_night_rear_view_mirror  \\\n",
       "count                      22228.000000                   22228.000000   \n",
       "mean                           0.582014                       0.379386   \n",
       "std                            0.493239                       0.485245   \n",
       "min                            0.000000                       0.000000   \n",
       "25%                            0.000000                       0.000000   \n",
       "50%                            1.000000                       0.000000   \n",
       "75%                            1.000000                       1.000000   \n",
       "max                            1.000000                       1.000000   \n",
       "\n",
       "             is_ecw  is_speed_alert   ncap_rating      is_claim  \n",
       "count  22228.000000    22228.000000  22228.000000  22228.000000  \n",
       "mean       0.721387        0.993297      1.750900      0.064198  \n",
       "std        0.448326        0.081600      1.394023      0.245111  \n",
       "min        0.000000        0.000000      0.000000      0.000000  \n",
       "25%        0.000000        1.000000      0.000000      0.000000  \n",
       "50%        1.000000        1.000000      2.000000      0.000000  \n",
       "75%        1.000000        1.000000      3.000000      0.000000  \n",
       "max        1.000000        1.000000      5.000000      1.000000  \n",
       "\n",
       "[8 rows x 35 columns]"
      ]
     },
     "execution_count": 161,
     "metadata": {},
     "output_type": "execute_result"
    }
   ],
   "source": [
    "train.describe()"
   ]
  },
  {
   "cell_type": "markdown",
   "id": "31f01c4b-280f-4367-9707-bc75ee5c85aa",
   "metadata": {},
   "source": [
    "## split data"
   ]
  },
  {
   "cell_type": "code",
   "execution_count": 162,
   "id": "26c11324-7ae3-4ef5-81fb-0be478abe009",
   "metadata": {},
   "outputs": [],
   "source": [
    "### split data\n",
    "# 因為演算法設計上將 x y 是置於同一 df中因此拆分時不特別做 x、y切分\n",
    "split = round(len(train)*0.8)\n",
    "training_set = train[:split]\n",
    "testing_set = train[split:]"
   ]
  },
  {
   "cell_type": "markdown",
   "id": "9ae136d3-ae74-4dc7-99a4-1423d93ef9ea",
   "metadata": {},
   "source": [
    "## Navie Bayes"
   ]
  },
  {
   "cell_type": "code",
   "execution_count": 144,
   "id": "aca09b72-68c4-4fb3-99d0-e64c6ecee9f9",
   "metadata": {},
   "outputs": [],
   "source": [
    "from navie_bayes import naive_bayes_train,naive_bayes_test"
   ]
  },
  {
   "cell_type": "code",
   "execution_count": 145,
   "id": "ffb526c4-dfd0-485d-9489-c902ab194100",
   "metadata": {},
   "outputs": [],
   "source": [
    "target_feature = 'is_claim'\n",
    "feature_names = list(train.columns)\n",
    "feature_names.remove(target_feature)\n",
    "\n",
    "# put training set into naive_bayes_train, and return the probabilities of all features\n",
    "prob = naive_bayes_train(training_set, target_feature, feature_names)\n",
    "\n",
    "# use the prob to apply into each instance, and return the better class\n",
    "result_nb =testing_set.apply(naive_bayes_test,axis=1, args=(feature_names,prob))"
   ]
  },
  {
   "cell_type": "code",
   "execution_count": 146,
   "id": "4b9604f5-1134-447c-a027-3baa04b63546",
   "metadata": {},
   "outputs": [
    {
     "name": "stdout",
     "output_type": "stream",
     "text": [
      "Accuracy on the test data is 0.94\n",
      "F1-score on the test data is 0.91\n"
     ]
    }
   ],
   "source": [
    "data = {'real':testing_set['is_claim'],\n",
    "       'pred':result_nb}\n",
    "acc = pd.DataFrame(data)\n",
    "\n",
    "# criteria：Accuracy , F1-score\n",
    "print('Accuracy on the test data is ' + str(round(sum(acc['real']==acc['pred'] ) / (1.0*len(testing_set)),2)))\n",
    "print('F1-score on the test data is ' +str(round(f1_score(acc['real'], acc['pred'], average='weighted'),2)))"
   ]
  },
  {
   "cell_type": "markdown",
   "id": "b99058f2-bf34-4e0f-88c9-2b4c05ae2322",
   "metadata": {},
   "source": [
    "## random_forest"
   ]
  },
  {
   "cell_type": "code",
   "execution_count": 147,
   "id": "4c56dd1c-0c63-45c0-8a15-98ba14cf0a14",
   "metadata": {},
   "outputs": [],
   "source": [
    "from random_forest import random_forest_train,random_forest_test\n",
    "from pprint import pprint"
   ]
  },
  {
   "cell_type": "code",
   "execution_count": 148,
   "id": "a62517b9-1318-4058-a08f-74e251c774ab",
   "metadata": {},
   "outputs": [],
   "source": [
    "# n: the number of the tree\n",
    "n = 10\n",
    "\n",
    "# put training set into random_forest_train, and return all the tree into forest\n",
    "forest =random_forest_train(training_set,'is_claim', n_estimators =n)\n",
    "\n",
    "# use forest to pred the class, and bagging for the best class \n",
    "result_rf = random_forest_test(testing_set,forest, n_estimators =n)"
   ]
  },
  {
   "cell_type": "code",
   "execution_count": 149,
   "id": "b2f5d426-8f33-4ef9-8ce9-1cbbcd10a2c1",
   "metadata": {},
   "outputs": [
    {
     "name": "stdout",
     "output_type": "stream",
     "text": [
      "Accuracy on the test data is 0.94\n",
      "F1-score on the test data is 0.91\n"
     ]
    }
   ],
   "source": [
    "data = {'real':testing_set['is_claim'],\n",
    "       'pred':result_rf}\n",
    "acc = pd.DataFrame(data)\n",
    "\n",
    "# criteria：Accuracy , F1-score\n",
    "print('Accuracy on the test data is ' + str(round(sum(acc['real']==acc['pred'] ) / (1.0*len(testing_set)),2)))\n",
    "print('F1-score on the test data is ' +str(round(f1_score(acc['real'], acc['pred'], average='weighted'),2)))"
   ]
  },
  {
   "cell_type": "markdown",
   "id": "28b18856-7561-426a-8714-a6b848aeb5dc",
   "metadata": {
    "tags": []
   },
   "source": [
    "## RandomForestClassifier by sklearn"
   ]
  },
  {
   "cell_type": "code",
   "execution_count": 150,
   "id": "548daae3-bdbd-403e-8bb7-c6c9a35e719a",
   "metadata": {},
   "outputs": [],
   "source": [
    "split = round(len(train)*0.8)\n",
    "training_set = train[:split]\n",
    "testing_set = train[split:]\n",
    "\n",
    "training_X = training_set.loc[:,:'ncap_rating']\n",
    "training_y = training_set['is_claim']\n",
    "testing_X = testing_set.loc[:,:'ncap_rating']\n",
    "testing_y = testing_set['is_claim']"
   ]
  },
  {
   "cell_type": "code",
   "execution_count": 151,
   "id": "ac46788b-c184-44c3-938f-b7dcfefd507d",
   "metadata": {},
   "outputs": [],
   "source": [
    "from sklearn.ensemble import RandomForestClassifier"
   ]
  },
  {
   "cell_type": "code",
   "execution_count": 152,
   "id": "1769ef51-ea22-47e9-b220-7c848f5ba8c0",
   "metadata": {},
   "outputs": [],
   "source": [
    "clf = RandomForestClassifier(max_depth=2, random_state=0)\n",
    "clf.fit(training_X, training_y)\n",
    "result_sk_rf = clf.predict(testing_X)"
   ]
  },
  {
   "cell_type": "code",
   "execution_count": 153,
   "id": "90c018d6-8bee-49f6-bc93-e5d750e431b0",
   "metadata": {},
   "outputs": [
    {
     "name": "stdout",
     "output_type": "stream",
     "text": [
      "Accuracy on the test data is 0.94\n",
      "F1-score on the test data is 0.91\n"
     ]
    }
   ],
   "source": [
    "data = {'real':testing_y,\n",
    "       'pred':result_sk_rf}\n",
    "acc = pd.DataFrame(data)\n",
    "\n",
    "# criteria：Accuracy , F1-score\n",
    "print('Accuracy on the test data is ' + str(round(sum(acc['real']==acc['pred'] ) / (1.0*len(testing_set)),2)))\n",
    "print('F1-score on the test data is ' +str(round(f1_score(acc['real'], acc['pred'], average='weighted'),2)))"
   ]
  },
  {
   "cell_type": "markdown",
   "id": "a2fe9a58-1683-4916-825b-576712efa907",
   "metadata": {},
   "source": [
    "## xgboost"
   ]
  },
  {
   "cell_type": "code",
   "execution_count": 154,
   "id": "d754f0b9-f66b-45ea-899f-d716b79fe55d",
   "metadata": {},
   "outputs": [],
   "source": [
    "from xgboost import XGBClassifier,XGBRegressor"
   ]
  },
  {
   "cell_type": "code",
   "execution_count": 155,
   "id": "a39d3223-eabf-43aa-b670-ccfd02188d76",
   "metadata": {},
   "outputs": [],
   "source": [
    "model = XGBClassifier()\n",
    "model.fit(training_X, training_y)\n",
    "\n",
    "result_xg = model.predict(testing_X)"
   ]
  },
  {
   "cell_type": "code",
   "execution_count": 156,
   "id": "31553463-ff6a-4ef2-bfe0-762d48187765",
   "metadata": {},
   "outputs": [
    {
     "name": "stdout",
     "output_type": "stream",
     "text": [
      "Accuracy on the test data is 0.94\n",
      "F1-score on the test data is 0.91\n"
     ]
    }
   ],
   "source": [
    "data = {'real':testing_y,\n",
    "       'pred':result_xg}\n",
    "acc = pd.DataFrame(data)\n",
    "\n",
    "# criteria：Accuracy , F1-score\n",
    "print('Accuracy on the test data is ' + str(round(sum(acc['real']==acc['pred'] ) / (1.0*len(testing_set)),2)))\n",
    "print('F1-score on the test data is ' +str(round(f1_score(acc['real'], acc['pred'], average='weighted'),2)))"
   ]
  },
  {
   "cell_type": "markdown",
   "id": "213031b7-99ae-48ba-813d-a9688ef1ff88",
   "metadata": {},
   "source": [
    "# Cross-validation"
   ]
  },
  {
   "cell_type": "code",
   "execution_count": 134,
   "id": "0153629d-5f98-49d5-aba2-0888e008cedc",
   "metadata": {},
   "outputs": [],
   "source": [
    "split = round(len(train)*0.8)\n",
    "training_set = train[:split]\n",
    "testing_set = train[split:]"
   ]
  },
  {
   "cell_type": "code",
   "execution_count": 135,
   "id": "6f5e9878-0d41-4d52-b329-723593d6a6a7",
   "metadata": {},
   "outputs": [],
   "source": [
    "from sklearn.model_selection import KFold\n",
    "from sklearn.metrics import f1_score"
   ]
  },
  {
   "cell_type": "code",
   "execution_count": 136,
   "id": "d71aa60d-784f-40fc-b757-5095a4402e17",
   "metadata": {},
   "outputs": [
    {
     "name": "stdout",
     "output_type": "stream",
     "text": [
      "3-fold of F1-score on the test data is 0.9\n",
      "5-fold of F1-score on the test data is 0.9012500000000001\n",
      "10-fold of F1-score on the test data is 0.9022222222222221\n"
     ]
    }
   ],
   "source": [
    "###  naive_bayes  ###\n",
    "\n",
    "from navie_bayes import naive_bayes_train,naive_bayes_test\n",
    "acc_list = []\n",
    "for i in ([3,5,10]):\n",
    "    kf = KFold(n_splits=i)\n",
    "    for train, valid in kf.split(training_set):\n",
    "        \n",
    "        # split train / validation\n",
    "        target_feature = 'is_claim'\n",
    "        feature_names = list(training_set.columns)\n",
    "        feature_names.remove(target_feature)\n",
    "\n",
    "        training = training_set.iloc[train]\n",
    "        valid = training_set.iloc[valid]\n",
    "        \n",
    "        # main：training model and predict result\n",
    "        prob = naive_bayes_train(training, target_feature, feature_names)\n",
    "        result_nb =valid.apply(naive_bayes_test,axis=1, args=(feature_names,prob))\n",
    "        \n",
    "        # criteria：Accuracy \n",
    "        data = {'real':valid['is_claim'],\n",
    "                'pred':result_nb}\n",
    "        acc = pd.DataFrame(data)\n",
    "        accuracy = round(f1_score(acc['real'], acc['pred'], average='weighted'),2)\n",
    "        \n",
    "        acc_list.append(accuracy)\n",
    "    \n",
    "    # criteria：Average accuracy \n",
    "    print(f'{i}-fold of F1-score on the test data is ' +str(np.mean(acc_list)))\n"
   ]
  },
  {
   "cell_type": "code",
   "execution_count": 139,
   "id": "699f7a97-d6ce-4027-b63b-9eba7224a162",
   "metadata": {},
   "outputs": [
    {
     "name": "stdout",
     "output_type": "stream",
     "text": [
      "3-fold of F1-score on the test data is 0.9\n",
      "5-fold of F1-score on the test data is 0.9012500000000001\n",
      "10-fold of F1-score on the test data is 0.9022222222222221\n"
     ]
    }
   ],
   "source": [
    "###  random forest   ###\n",
    "from random_forest import random_forest_train,random_forest_test\n",
    "acc_list = []\n",
    "for i in ([3,5,10]):\n",
    "    kf = KFold(n_splits=i)\n",
    "    for train, valid in kf.split(training_set):\n",
    "        \n",
    "        # n : number of trees\n",
    "        n = 100\n",
    "        \n",
    "        # split train / validation\n",
    "        training = training_set.iloc[train]\n",
    "        valid = training_set.iloc[valid]\n",
    "        \n",
    "        # main：training model and predict result\n",
    "        forest =random_forest_train(training,'is_claim', n_estimators =n)\n",
    "        result_rf = random_forest_test(valid,forest, n_estimators =n)\n",
    "        \n",
    "        # criteria：Accuracy \n",
    "        data = {'real':valid['is_claim'],\n",
    "                    'pred':result_rf}\n",
    "        acc = pd.DataFrame(data)\n",
    "        accuracy = round(f1_score(acc['real'], acc['pred'], average='weighted'),2)\n",
    "\n",
    "        acc_list.append(accuracy)\n",
    "    \n",
    "    # criteria：Average accuracy \n",
    "    print(f'{i}-fold of F1-score on the test data is ' +str(np.mean(acc_list)))"
   ]
  },
  {
   "cell_type": "code",
   "execution_count": 137,
   "id": "53a7d927-5ab1-4c25-908d-57ec51ef7cf8",
   "metadata": {},
   "outputs": [
    {
     "name": "stdout",
     "output_type": "stream",
     "text": [
      "3-fold of F1-score on the test data is 0.9\n",
      "5-fold of F1-score on the test data is 0.9012500000000001\n",
      "10-fold of F1-score on the test data is 0.9022222222222221\n"
     ]
    }
   ],
   "source": [
    "###　RandomForestClassifier by sklearn  ###\n",
    "from sklearn.ensemble import RandomForestClassifier\n",
    "\n",
    "acc_list = []\n",
    "for i in ([3,5,10]):\n",
    "    kf = KFold(n_splits=i)\n",
    "    for train, valid in kf.split(training_set):\n",
    "        \n",
    "        # split train / validation\n",
    "        training = training_set.iloc[train]\n",
    "        valid = training_set.iloc[valid]\n",
    "        \n",
    "        training_X = training.loc[:,:'ncap_rating']\n",
    "        training_y = training['is_claim']\n",
    "        valid_X = valid.loc[:,:'ncap_rating']\n",
    "        valid_y = valid['is_claim']\n",
    "        \n",
    "        # main：training model and predict result\n",
    "        clf = RandomForestClassifier(max_depth=2, random_state=0)\n",
    "        clf.fit(training_X, training_y)\n",
    "        result_sk_rf = clf.predict(valid_X)\n",
    "        \n",
    "        # criteria：Accuracy \n",
    "        data = {'real':valid_y,\n",
    "               'pred': result_sk_rf}\n",
    "        acc = pd.DataFrame(data)\n",
    "        \n",
    "        accuracy = round(f1_score(acc['real'], acc['pred'], average='weighted'),2)\n",
    "\n",
    "        acc_list.append(accuracy)\n",
    "    \n",
    "    # criteria：Average accuracy \n",
    "    print(f'{i}-fold of F1-score on the test data is ' +str(np.mean(acc_list)))"
   ]
  },
  {
   "cell_type": "code",
   "execution_count": 138,
   "id": "c1ac514e-876d-453a-93f1-c1db1114b844",
   "metadata": {},
   "outputs": [
    {
     "name": "stdout",
     "output_type": "stream",
     "text": [
      "3-fold of F1-score on the test data is 0.9\n",
      "5-fold of F1-score on the test data is 0.9\n",
      "10-fold of F1-score on the test data is 0.9016666666666667\n"
     ]
    }
   ],
   "source": [
    "### xgboost ###\n",
    "\n",
    "from xgboost import XGBClassifier,XGBRegressor\n",
    "\n",
    "acc_list = []\n",
    "for i in ([3,5,10]):\n",
    "    kf = KFold(n_splits=i)\n",
    "    for train, valid in kf.split(training_set):\n",
    "        \n",
    "        # split train / validation\n",
    "        training = training_set.iloc[train]\n",
    "        valid = training_set.iloc[valid]\n",
    "        \n",
    "        training_X = training.loc[:,:'ncap_rating']\n",
    "        training_y = training['is_claim']\n",
    "        valid_X = valid.loc[:,:'ncap_rating']\n",
    "        valid_y = valid['is_claim']\n",
    "        \n",
    "        # main：training model and predict result\n",
    "        model = XGBClassifier()\n",
    "        model.fit(training_X, training_y)\n",
    "        result_xg = model.predict(valid_X)\n",
    "        \n",
    "        # criteria：Accuracy\n",
    "        data = {'real':valid_y,\n",
    "               'pred': result_xg}\n",
    "        acc = pd.DataFrame(data)\n",
    "        \n",
    "        accuracy = round(f1_score(acc['real'], acc['pred'], average='weighted'),2)\n",
    "\n",
    "        acc_list.append(accuracy)\n",
    "    \n",
    "    # criteria：Average accuracy \n",
    "    print(f'{i}-fold of F1-score on the test data is ' +str(np.mean(acc_list)))"
   ]
  },
  {
   "cell_type": "markdown",
   "id": "14be1332-c234-4a46-b17a-d210cfb1955f",
   "metadata": {},
   "source": [
    "### Cross validation Q2"
   ]
  },
  {
   "cell_type": "code",
   "execution_count": 110,
   "id": "63821578-7d84-4efe-9495-a41fe09d1288",
   "metadata": {},
   "outputs": [],
   "source": [
    "def bagging(x):\n",
    "    return np.argmax(x.value_counts())"
   ]
  },
  {
   "cell_type": "code",
   "execution_count": 166,
   "id": "622d3203-f0c2-4862-873b-bbcd00e9caa6",
   "metadata": {},
   "outputs": [
    {
     "name": "stdout",
     "output_type": "stream",
     "text": [
      "3-fold of F1-score on the test data is 0.9047700922639864\n",
      "5-fold of F1-score on the test data is 0.9047693083596062\n",
      "10-fold of F1-score on the test data is 0.904773278539197\n"
     ]
    }
   ],
   "source": [
    "# easy conbine all the result, and bagging for the best result\n",
    "\n",
    "acc_list = []\n",
    "for i in ([3,5,10]):\n",
    "    kf = KFold(n_splits=i)\n",
    "    for train_, test_ in kf.split(train):\n",
    "        \n",
    "        target_feature = 'is_claim'\n",
    "        feature_names = list(training_set.columns)\n",
    "        feature_names.remove(target_feature)\n",
    "        \n",
    "        # split train / test\n",
    "        training = train.iloc[train_]\n",
    "        testing = train.iloc[test_]\n",
    "        \n",
    "        df_result = pd.DataFrame(index=testing.index)\n",
    "        \n",
    "        # main：training model and predict result\n",
    "        prob = naive_bayes_train(training, target_feature, feature_names)\n",
    "        result_nb =valid.apply(naive_bayes_test,axis=1, args=(feature_names,prob))\n",
    "        df_result[0] = result_nb\n",
    "        \n",
    "        # random_forest #\n",
    "        n = 10\n",
    "        forest =random_forest_train(training_set,'is_claim', n_estimators =n)\n",
    "        result_rf = random_forest_test(testing_set,forest, n_estimators =n)\n",
    "        df_result[1] = result_rf\n",
    "        \n",
    "        \n",
    "        training_X = training.loc[:,:'ncap_rating']\n",
    "        training_y = training['is_claim']\n",
    "        testing_X = testing.loc[:,:'ncap_rating']\n",
    "        testing_y = testing['is_claim']\n",
    "        \n",
    "        # RandomForestClassifier by sklearn #\n",
    "        clf = RandomForestClassifier(max_depth=2, random_state=0)\n",
    "        clf.fit(training_X, training_y)\n",
    "        result_sk_rf = clf.predict(testing_X)\n",
    "        df_result[2] = result_sk_rf \n",
    "        \n",
    "        # xgboost #\n",
    "        model = XGBClassifier()\n",
    "        model.fit(training_X, training_y)\n",
    "        result_xg = model.predict(testing_X)\n",
    "        df_result[3] = result_xg\n",
    "        \n",
    "        result= df_result.apply(bagging, axis=1)\n",
    "        \n",
    "        data = {'real':testing_y,\n",
    "               'pred' :result}\n",
    "        acc = pd.DataFrame(data)\n",
    "        \n",
    "        result = f1_score(acc['real'], acc['pred'], average='weighted')\n",
    "        \n",
    "        acc_list.append(result)\n",
    "    # criteria：Average accuracy \n",
    "    print(f'{i}-fold of F1-score on the test data is ' +str(np.mean(acc_list)))"
   ]
  },
  {
   "cell_type": "code",
   "execution_count": null,
   "id": "d52e6f15-c0ac-4a47-a591-dca80a26f850",
   "metadata": {},
   "outputs": [],
   "source": []
  }
 ],
 "metadata": {
  "kernelspec": {
   "display_name": "python39_kernel",
   "language": "python",
   "name": "python39_kernel"
  },
  "language_info": {
   "codemirror_mode": {
    "name": "ipython",
    "version": 3
   },
   "file_extension": ".py",
   "mimetype": "text/x-python",
   "name": "python",
   "nbconvert_exporter": "python",
   "pygments_lexer": "ipython3",
   "version": "3.9.13"
  }
 },
 "nbformat": 4,
 "nbformat_minor": 5
}
